{
 "cells": [
  {
   "cell_type": "code",
   "execution_count": 1,
   "metadata": {},
   "outputs": [],
   "source": [
    "import cv2\n",
    "\n",
    "# Mouse Callback Function\n",
    "def draw_circle(event, x, y, flags, param):\n",
    "    \n",
    "    global center, clicked\n",
    "    \n",
    "    #Get Mouse Click on Down and Track the Center\n",
    "    if event == cv2.EVENT_LBUTTONDOWN:\n",
    "        center = (x, y)\n",
    "        clicked = False\n",
    "        \n",
    "    if event == cv2.EVENT_LBUTTONUP:\n",
    "        clicked = True\n",
    "        \n",
    "# Zero Drawing yet\n",
    "center = (0, 0)\n",
    "clicked = False\n",
    "\n",
    "#Capture the Video\n",
    "cap = cv2.VideoCapture(0)\n",
    "\n",
    "# Create a Named Window for the Cinnections\n",
    "cv2.namedWindow('Testing')\n",
    "\n",
    "# Bind the draw_circle function to Mouse Clicks\n",
    "cv2.setMouseCallback('Testing', draw_circle)\n",
    "        \n",
    "while True:\n",
    "    \n",
    "    # Capture frame by frame\n",
    "    ret, frame = cap.read()\n",
    "    \n",
    "    # Use if to check if Clicked is True\n",
    "    if clicked:\n",
    "        # Draw a Circle on the Frame\n",
    "        cv2.circle(frame, center=center, radius=50, color=(255, 0, 0), thickness=3)\n",
    "        \n",
    "    # Display the resulting Frame\n",
    "    cv2.imshow('Testing', frame)\n",
    "    \n",
    "    # Close with the q button\n",
    "    if cv2.waitKey(1) & 0xFF == ord('q'):\n",
    "        break\n",
    "        \n",
    "cap.release()\n",
    "cv2.destroyAllWindows()"
   ]
  },
  {
   "cell_type": "code",
   "execution_count": null,
   "metadata": {},
   "outputs": [],
   "source": []
  }
 ],
 "metadata": {
  "kernelspec": {
   "display_name": "Python 3",
   "language": "python",
   "name": "python3"
  },
  "language_info": {
   "codemirror_mode": {
    "name": "ipython",
    "version": 3
   },
   "file_extension": ".py",
   "mimetype": "text/x-python",
   "name": "python",
   "nbconvert_exporter": "python",
   "pygments_lexer": "ipython3",
   "version": "3.7.6"
  }
 },
 "nbformat": 4,
 "nbformat_minor": 4
}
