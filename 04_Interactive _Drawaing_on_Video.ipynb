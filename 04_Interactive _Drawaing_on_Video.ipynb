{
 "cells": [
  {
   "cell_type": "code",
   "execution_count": 1,
   "metadata": {},
   "outputs": [],
   "source": [
    "import cv2\n",
    "\n",
    "# Callback Function Rectangle\n",
    "def draw_rectangle(event, x, y, flags, param):\n",
    "    \n",
    "    global pt1, pt2, top_left_clicked, bottom_right_clicked\n",
    "    \n",
    "    if event == cv2.EVENT_LBUTTONDOWN:\n",
    "        \n",
    "        #Reset the Rectangle\n",
    "        if top_left_clicked == True and bottom_right_clicked == True:\n",
    "            pt1 = (0, 0)\n",
    "            pt2 = (0, 0)\n",
    "            # Trackers\n",
    "            top_left_clicked = False\n",
    "            bottom_right_clicked = False\n",
    "            \n",
    "        if top_left_clicked == False:\n",
    "            pt1 = (x, y)\n",
    "            top_left_clicked = True\n",
    "            \n",
    "        elif bottom_right_clicked == False:\n",
    "            pt2 = (x, y)\n",
    "            bottom_right_clicked = True\n",
    "            \n",
    "\n",
    "# Global Variables\n",
    "pt1 = (0, 0)\n",
    "pt2 = (0, 0)\n",
    "# Trackers\n",
    "top_left_clicked = False\n",
    "bottom_right_clicked = False\n",
    "\n",
    "# Connect Callbacks\n",
    "# Capture the Video\n",
    "cap = cv2.VideoCapture(0)\n",
    "\n",
    "cv2.namedWindow('Test')\n",
    "cv2.setMouseCallback('Test', draw_rectangle)\n",
    "\n",
    "while True:\n",
    "    \n",
    "    # Display the Video\n",
    "    ret, frame = cap.read()\n",
    "    \n",
    "    # Drawing Frame Based of the Global Variables\n",
    "    if top_left_clicked == True:\n",
    "        cv2.circle(frame, center=pt1, radius=5, color=(0, 0, 255), thickness=-1)\n",
    "        \n",
    "    if top_left_clicked == True and bottom_right_clicked == True:\n",
    "        cv2.rectangle(frame, pt1, pt2, (0, 0, 255), 3)\n",
    "    \n",
    "    cv2.imshow('Test', frame)\n",
    "    \n",
    "    if cv2.waitKey(1) & 0xFF == ord('q'):\n",
    "        break\n",
    "        \n",
    "cap.release()\n",
    "cv2.destroyAllWindows()"
   ]
  },
  {
   "cell_type": "code",
   "execution_count": null,
   "metadata": {},
   "outputs": [],
   "source": []
  }
 ],
 "metadata": {
  "kernelspec": {
   "display_name": "Python 3",
   "language": "python",
   "name": "python3"
  },
  "language_info": {
   "codemirror_mode": {
    "name": "ipython",
    "version": 3
   },
   "file_extension": ".py",
   "mimetype": "text/x-python",
   "name": "python",
   "nbconvert_exporter": "python",
   "pygments_lexer": "ipython3",
   "version": "3.7.6"
  }
 },
 "nbformat": 4,
 "nbformat_minor": 4
}
